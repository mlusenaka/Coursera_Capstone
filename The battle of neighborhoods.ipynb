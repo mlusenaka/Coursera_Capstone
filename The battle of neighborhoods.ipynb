{
    "cells": [
        {
            "cell_type": "markdown",
            "metadata": {},
            "source": "# Problem and a discussion of the background\n\n## Background\nFood plays a crucial role in the growth of society and human civilization. It is an essential premise for human existence. However, different states have different food and food habits. That is because they have different cultures, especially food culture. Chinese cuisine is extremely diverse with wide regional variations, and it is not uncommon for even Chinese people themselves to find the cuisine from another region to be completely foreign to them.\n\n## Problem\nThere is no denying that some Chinese cuisine consist of food considered exotic. For a new visitor in Beijing who does not want to experiment with Chinese cuisine, how can they get support to list and visualize Beijing districts that fit their needs in terms of culinary/ food venues.\n"
        },
        {
            "cell_type": "code",
            "execution_count": null,
            "metadata": {},
            "outputs": [],
            "source": ""
        }
    ],
    "metadata": {
        "kernelspec": {
            "display_name": "Python 3.6",
            "language": "python",
            "name": "python3"
        },
        "language_info": {
            "codemirror_mode": {
                "name": "ipython",
                "version": 3
            },
            "file_extension": ".py",
            "mimetype": "text/x-python",
            "name": "python",
            "nbconvert_exporter": "python",
            "pygments_lexer": "ipython3",
            "version": "3.6.9"
        }
    },
    "nbformat": 4,
    "nbformat_minor": 1
}